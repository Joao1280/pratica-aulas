{
 "cells": [
  {
   "cell_type": "markdown",
   "metadata": {},
   "source": [
    "# NOME DO ARQUIVO: lista2\n",
    "\n",
    "## AUTOR: João Victor\n",
    "\n",
    "### DATA DW CRIAÇÃO: 30/08/2024\n",
    "\n",
    "#### DESCRIÇÃO: Contém a lista de exercícios 01e e suas resoluções."
   ]
  },
  {
   "cell_type": "code",
   "execution_count": 9,
   "metadata": {},
   "outputs": [
    {
     "name": "stdout",
     "output_type": "stream",
     "text": [
      "17.0\n"
     ]
    }
   ],
   "source": [
    "#Criar um algoritmo para calcular o valor de y como função de x, segundo a função y(x)=3x+2, em um domínio real.\n",
    "\n",
    "# Y = float(input(\"Digite o valor de Y: \"))\n",
    "X = float(input(\"Digite o valor de X: \"))\n",
    " \n",
    "Y = 3 * X + 2\n",
    "\n",
    "print(Y)"
   ]
  },
  {
   "cell_type": "code",
   "execution_count": 14,
   "metadata": {},
   "outputs": [
    {
     "name": "stdout",
     "output_type": "stream",
     "text": [
      "O tempo necessário para download é de 11.11 segundos.\n"
     ]
    }
   ],
   "source": [
    "# Dados o tamanho de um arquivo (em bits), bem como a velocidade da conexão (em bits por segundo), informe o tempo necessário para o download do arquivo.\n",
    "\n",
    "# | b = bites  | B_S = bytes/s | T = tempo necessário para o download. | TM = tempo em minutos\n",
    "\n",
    "b = float(input(\"Informe a quantidade de bites do arquivo: \"))\n",
    "B_S = float(input(\"Informe a velocidade de conexão em Bytes/s: \"))\n",
    "\n",
    "T = b / B_S\n",
    "\n",
    "print(f\"O tempo necessário para download é de {T:.2f} segundos.\".format(T))\n",
    "\n",
    "\n"
   ]
  },
  {
   "cell_type": "code",
   "execution_count": 15,
   "metadata": {},
   "outputs": [
    {
     "name": "stdout",
     "output_type": "stream",
     "text": [
      "O carro tem uma média de: 10.00 /L\n"
     ]
    }
   ],
   "source": [
    "#Criar um algoritmo que calcule o consumo médio de um automóvel (medido em km/l), dado que são conhecidos a distância total percorrida e o volume de combustível\n",
    "#consumido para percorrê-la (medido em litros).\n",
    "\n",
    "KM = int(input(\"Informe quantos km foram percorridos: \")) # quantos km foram percorridos\n",
    "L = int(input(\"Informe quantos litros foram consumidos: \")) # quantos litros foram consumidos\n",
    "\n",
    "KML = KM / L # cálculo da média\n",
    "\n",
    "print(F\"O carro tem uma média de: {KML:.2f} KM/L\")"
   ]
  },
  {
   "cell_type": "code",
   "execution_count": 4,
   "metadata": {},
   "outputs": [
    {
     "name": "stdout",
     "output_type": "stream",
     "text": [
      "O saldo da sua aplicação agora é: R$ 1150.00\n"
     ]
    }
   ],
   "source": [
    "# Crie um algoritmo que leia o saldo de uma aplicação e imprima o novo saldo com um reajuste de 15%.\n",
    "\n",
    "# S = saldo | R = reajuste. | NS = novo saldo\n",
    "\n",
    "S = float(input(\"Qual o saldo inicial?\"))\n",
    "R = S * 0.15\n",
    "NS = S + R\n",
    "\n",
    "print(f\"O saldo da sua aplicação agora é: R$ {NS:.2f}\")\n"
   ]
  },
  {
   "cell_type": "code",
   "execution_count": 8,
   "metadata": {},
   "outputs": [
    {
     "name": "stdout",
     "output_type": "stream",
     "text": [
      "Seu salário com o aumento será: 1100.00\n"
     ]
    }
   ],
   "source": [
    "# Criar um algoritmo que receba o salário de um funcionário e o percentual de algumento, calcule e mostre o valor do aumento e o novo salário.\n",
    "\n",
    "# S = salário inicial | P = percentual |SA = salario com aumento | PD = percentual em decimal | SP = salario x percentual\n",
    "\n",
    "S = float(input(\"Qual o salário atual?\"))\n",
    "P = float(input(\"Qual será o percentual de aumento?\"))\n",
    "PD = P / 100\n",
    "SP= S * PD\n",
    "SA = S + SP\n",
    "\n",
    "print(f\"Seu salário com o aumento será: {SA:.2f}\")"
   ]
  },
  {
   "cell_type": "code",
   "execution_count": 9,
   "metadata": {},
   "outputs": [
    {
     "name": "stdout",
     "output_type": "stream",
     "text": [
      "Sua idade atual é: 22\n",
      "Sua idade em 2026 será: 24\n"
     ]
    }
   ],
   "source": [
    "# Criar um algoritmo quereceba o ano de nascimento de uma pessoa e o ano atual, calcule e mostre: A idade da pessoa hj | A Idade da pessoa em 2026\n",
    "\n",
    "# AN = ano de nascimento | AA = ano atual | IA= idade atual | ID = idade em 2026\n",
    "\n",
    "AN = int(input(\"Digite o ano de nascimento: \"))\n",
    "AT = int(input(\"Digite o ano atual: \"))\n",
    "\n",
    "IA = AT - AN\n",
    "ID = 2026 - AN\n",
    "\n",
    "print(\"Sua idade atual é:\", IA)\n",
    "print(\"Sua idade em 2026 será:\", ID)"
   ]
  },
  {
   "cell_type": "code",
   "execution_count": 14,
   "metadata": {},
   "outputs": [
    {
     "name": "stdout",
     "output_type": "stream",
     "text": [
      "6 minutos e 52 segundos\n"
     ]
    }
   ],
   "source": [
    "# Criar um algoritmo que converta segundos em minutos e segundos. Por exemplo, 252 segundos é igual a 4 minutos e 12 segundos.\n",
    "\n",
    "# s = segundos | M = minutos | SR = segundos restantes\n",
    "\n",
    "S = int(input(\"Digite quantos segundos você quer saber: \"))\n",
    "M = S // 60\n",
    "SR = S % 60\n",
    "\n",
    "print(f\"{M} minutos e {SR} segundos\")"
   ]
  },
  {
   "cell_type": "code",
   "execution_count": 22,
   "metadata": {},
   "outputs": [
    {
     "name": "stdout",
     "output_type": "stream",
     "text": [
      "A hipotenusa é igual a: 2.83\n"
     ]
    }
   ],
   "source": [
    "# crie um algoritmo que dados dois lados de um triângulo retângulo calcule e exiba a respectiva hipotenusa. ||h = sqrt(c1**2 + c2**2)\n",
    "\n",
    "# H = hipotenusa | A = cateto adjascente | B = cateto oposto\n",
    "from math import sqrt\n",
    "A = float(input(\"Qual o primeiro lado do triângulo retângulo? \"))\n",
    "B = float(input(\"Qual o segundo lado do triângulo retângulo? \"))\n",
    "\n",
    "H = sqrt(A**2 + B**2)\n",
    "\n",
    "print(f\"A hipotenusa é igual a: {H:.2f}\")"
   ]
  },
  {
   "cell_type": "code",
   "execution_count": 4,
   "metadata": {},
   "outputs": [
    {
     "name": "stdout",
     "output_type": "stream",
     "text": [
      "O salário a receber é:  126585.00\n"
     ]
    }
   ],
   "source": [
    "#Faça um algoritmo que receba o número de horas trabalhadas e o valor do salário mínimo. Calcule e mostre o salário a receber seguindo as regras abaixo:\n",
    "#a. o valor da hora trabalhada vale a metade do salário mínimo;\n",
    "#b. o salário bruto equivale ao número de horas trabalhadas multiplicado pelo valor da hora trabalhada;\n",
    "#c. o imposto equivale a 3% do salário bruto;\n",
    "#d. o salário a receber equivale ao salário bruto menos o imposto.\n",
    "\n",
    "# HT = horas trabalhadas | SM = salário minimo | VH = valor da hora trabalhada | SB = salario bruto, HT * VH | SR = Salario a receber | IMP = 3% do SB\n",
    "\n",
    "HT  = int(input(\"Quantas horas você trabalhou?\"))\n",
    "SM  = float(input(\"Qual o salário minimo?\"))\n",
    "VH  = SM / 2\n",
    "SB  = HT * VH\n",
    "IMP = SB * .03\n",
    "SR  = SB - IMP \n",
    "\n",
    "print(f\"O salário a receber é: {SR: .2f}\")"
   ]
  },
  {
   "cell_type": "code",
   "execution_count": null,
   "metadata": {},
   "outputs": [],
   "source": []
  }
 ],
 "metadata": {
  "kernelspec": {
   "display_name": "base",
   "language": "python",
   "name": "python3"
  },
  "language_info": {
   "codemirror_mode": {
    "name": "ipython",
    "version": 3
   },
   "file_extension": ".py",
   "mimetype": "text/x-python",
   "name": "python",
   "nbconvert_exporter": "python",
   "pygments_lexer": "ipython3",
   "version": "3.12.4"
  }
 },
 "nbformat": 4,
 "nbformat_minor": 2
}
