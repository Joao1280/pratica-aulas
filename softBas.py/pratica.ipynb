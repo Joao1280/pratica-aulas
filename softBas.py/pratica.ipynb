{
 "cells": [
  {
   "cell_type": "markdown",
   "metadata": {},
   "source": [
    "# aula 2 23/08 - Software Básico\n",
    "## João Victor, 21 anos\n",
    "### Cálculo de média\n"
   ]
  },
  {
   "cell_type": "code",
   "execution_count": 9,
   "metadata": {},
   "outputs": [
    {
     "name": "stdout",
     "output_type": "stream",
     "text": [
      "A primeira nota é:  5  E a segunda nota é:  5\n",
      "a média das notas:  5.0\n"
     ]
    }
   ],
   "source": [
    "n1 = input(\"Digite a primeira nota\")\n",
    "n1=int(n1)\n",
    "n2 = input(\"Digite a segunda nota\")\n",
    "n2=int(n2)\n",
    "media = (n1 + n2) / 2\n",
    "print(\"A primeira nota é: \", n1, \" E a segunda nota é: \", n2)\n",
    "print(\"a média das notas: \", media)\n",
    "\n"
   ]
  },
  {
   "cell_type": "code",
   "execution_count": 7,
   "metadata": {},
   "outputs": [
    {
     "name": "stdout",
     "output_type": "stream",
     "text": [
      "A primeira nota é:  6.0 A segunda nota é:  6.0\n",
      "A média é:  6.0\n",
      "Você foi reprovado\n",
      "Fim\n"
     ]
    }
   ],
   "source": [
    "#Cálculo de Média\n",
    "\n",
    "N1 = input(\"Digite a primeira nota: \")\n",
    "N1 = float(N1)\n",
    "N2 = input(\"Digite a segunda nota: \")\n",
    "N2 = float(N2)\n",
    "M = (N1 + N2) / 2\n",
    "print(\"A primeira nota é: \", N1, \"A segunda nota é: \", N2)\n",
    "print(\"A média é: \", M)\n",
    "\n",
    "if M >= 7:\n",
    "    print(\"Você foi aprovado\")\n",
    "else:\n",
    "    print(\"Você foi reprovado\")\n",
    "print(\"Fim\")"
   ]
  },
  {
   "cell_type": "code",
   "execution_count": 43,
   "metadata": {},
   "outputs": [
    {
     "name": "stdout",
     "output_type": "stream",
     "text": [
      "A primeira nota é:  5.1 A segunda nota é:  5.1\n",
      "A média é:  5.1\n",
      "Você foi aprovado.\n",
      "Fim\n"
     ]
    }
   ],
   "source": [
    "\n",
    "\n",
    "#Cálculo de Média com alteração\n",
    "\n",
    "N1 = input(\"Digite a primeira nota: \")\n",
    "N1 = float(N1)\n",
    "N2 = input(\"Digite a segunda nota: \")\n",
    "N2 = float(N2)\n",
    "M = (N1 + N2) / 2\n",
    "print(\"A primeira nota é: \", N1, \"A segunda nota é: \", N2)\n",
    "print(\"A média é: \", M)\n",
    "\n",
    "if 0 <= M <= 3:\n",
    "    print(\"Você foi reprovado.\")\n",
    "elif  3< M <=5:\n",
    "    print(\"Você está de recuperação.\")\n",
    "else:\n",
    "    print(\"Você foi aprovado.\")\n",
    "print(\"Fim\")\n",
    "\n",
    "\n",
    "\n"
   ]
  },
  {
   "cell_type": "code",
   "execution_count": 3,
   "metadata": {},
   "outputs": [
    {
     "name": "stdout",
     "output_type": "stream",
     "text": [
      "Digite uma opção válida.\n"
     ]
    }
   ],
   "source": [
    "# CALCULADORA \n",
    "\n",
    "N1 = float (input(\"Digite o primeiro número: \"))\n",
    "N2 = float (input(\"Digite o segundo número: \"))\n",
    "SINAL = input(''' informe qual operação quer fazer: \n",
    "              Para somar: +          \n",
    "              Para subtrair: -        \n",
    "              Para multiplicar: *        \n",
    "              Para dividir: /           ''')\n",
    "\n",
    "\n",
    "if SINAL == '+':\n",
    "    print(N1 + N2)\n",
    "elif SINAL == '-':\n",
    "    print(N1 - N2)\n",
    "elif SINAL == '*':\n",
    "    print(N1 * N2)\n",
    "elif SINAL == '/':\n",
    "    if N2 != 0:\n",
    "        print(N1 / N2)\n",
    "    else:\n",
    "        print(\"Não é possível fazer uma divisão por zero.\")\n",
    "\n",
    "else:\n",
    "    print(\"Digite uma opção válida.\")\n",
    "\n",
    "\n"
   ]
  }
 ],
 "metadata": {
  "kernelspec": {
   "display_name": "base",
   "language": "python",
   "name": "python3"
  },
  "language_info": {
   "codemirror_mode": {
    "name": "ipython",
    "version": 3
   },
   "file_extension": ".py",
   "mimetype": "text/x-python",
   "name": "python",
   "nbconvert_exporter": "python",
   "pygments_lexer": "ipython3",
   "version": "3.12.4"
  }
 },
 "nbformat": 4,
 "nbformat_minor": 2
}
