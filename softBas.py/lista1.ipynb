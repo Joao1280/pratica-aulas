{
 "cells": [
  {
   "cell_type": "markdown",
   "metadata": {},
   "source": [
    "# Nome do Arquivo: lista1.ipynb\n",
    "## Autor: Joao Victor\n",
    "### Data de Criação: 24/08/2024 | TÉRMINO: 30/08/2024\n",
    "\n",
    "#### Descrição: Este arquivo contém questões da lista 01c de exercicios e suas resoluções.\n",
    "\n"
   ]
  },
  {
   "cell_type": "code",
   "execution_count": 1,
   "metadata": {},
   "outputs": [
    {
     "name": "stdout",
     "output_type": "stream",
     "text": [
      "Os dois números informados são:  5.9 -8.0\n",
      "A soma desses números é:  -2.0999999999999996\n"
     ]
    }
   ],
   "source": [
    "# Desenhe um fluxograma e implemente o programa em python que recebe dois números reais e mostre o resultado da soma deles.\n",
    "\n",
    "N1 = input(\"Digite o primeiro número real: \")\n",
    "N1 = float(N1)\n",
    "N2 = input(\"DIgite o Segundo número real: \")\n",
    "N2 = float(N2)\n",
    "SOMA = (N1 + N2)\n",
    "print(\"Os dois números informados são: \", N1,\" e \", N2)\n",
    "print(\"A soma desses números é: \", SOMA)\n"
   ]
  },
  {
   "cell_type": "code",
   "execution_count": 7,
   "metadata": {},
   "outputs": [
    {
     "name": "stdout",
     "output_type": "stream",
     "text": [
      "Os dois números informados são:  9 , e, 9\n",
      "A multiplicação desses números é:  81\n"
     ]
    }
   ],
   "source": [
    "# Desenhe um fluxograma e implemente o programa em python que recebe dois números inteiros e mostre o resultado da multiplicação deles.\n",
    "\n",
    "N1 = input(\"Digite o primeiro número inteiro: \")\n",
    "N1 = int(N1)\n",
    "N2 = input(\"DIgite o Segundo número inteiro: \")\n",
    "N2 = int(N2)\n",
    "MULT = (N1 * N2)\n",
    "print(\"Os dois números informados são: \",N1,\", e,\", N2)\n",
    "print(\"A multiplicação desses números é: \", MULT)\n"
   ]
  },
  {
   "cell_type": "code",
   "execution_count": 4,
   "metadata": {},
   "outputs": [
    {
     "name": "stdout",
     "output_type": "stream",
     "text": [
      "A altura do seu retângulo é:  8.0  a Largura do seu retângulo é:  6.0\n",
      " Portanto, o perímetro do seu retângulo é:  28.0  e a área dele é:  48.0\n"
     ]
    }
   ],
   "source": [
    "# Desenhe um fluxograma e implemente o programa em Python que recebe a largura e a altura de um retângulo,\n",
    "#.. calcule e mostre sua área e seu perímetro.\n",
    "\n",
    "# H = Altura | L = Largura | P = Perímetro | A = Área\n",
    "\n",
    "\n",
    "H = input(\"Digite a altura do retângulo: \")\n",
    "L = input(\"Digite a largura do retângulo: \")\n",
    "H = float (H)\n",
    "L = float (L)\n",
    "P = 2*(H + L)\n",
    "A = L * H\n",
    "\n",
    "print(\"A altura do seu retângulo é: \", H ,\" a Largura do seu retângulo é: \", L)\n",
    "print(\" Portanto, o perímetro do seu retângulo é: \", P , \" e a área dele é: \", A)\n"
   ]
  },
  {
   "cell_type": "code",
   "execution_count": 16,
   "metadata": {},
   "outputs": [
    {
     "name": "stdout",
     "output_type": "stream",
     "text": [
      "O raio da circunferência é: 9.00, o perímetro da circunferência é: 56.55, e a área da circunferência é: 254.47\n"
     ]
    }
   ],
   "source": [
    "# Desenhe um fluxograma e implemente o programa em Pyhton que recebe o raio de uma circunferência,\n",
    "# calcula e mostra sua área e seu perímetro.\n",
    "\n",
    "# R = raio | P = perímetro | A = área\n",
    "\n",
    "import math\n",
    "pi = math.pi\n",
    "\n",
    "R = input(\"Digite o raio da circunferência: \")\n",
    "R = float(R)\n",
    "P = ( 2 * pi * R)\n",
    "A = ( pi * R**2)\n",
    "\n",
    "#P = round ( 2 * pi * R, 2)\n",
    "#A = round ( pi * R**2, 2)\n",
    "\n",
    "\n",
    "print(f\"O raio da circunferência é: {R:.2f}, o perímetro da circunferência é: {P:.2f}, e a área da circunferência é: {A:.2f}\")"
   ]
  },
  {
   "cell_type": "code",
   "execution_count": 3,
   "metadata": {},
   "outputs": [
    {
     "name": "stdout",
     "output_type": "stream",
     "text": [
      "A área da parede é: 9.0 a área do azulejo é: 0.48999999999999994 .\n",
      "A quantidade de azulejos necessários para completar a parede é:,  18.37\n"
     ]
    }
   ],
   "source": [
    "# Desenhe um fluxograma e implemente um programa em python que recebe a largura de uma parede quadrada e a largura\n",
    "# de um azulejo quadrado, calcula e mostra quantos azulejos serão necessários para preencher completamente a parede.\n",
    "\n",
    "LP = input(\"Qual é a largura da parede? \") # LP = largura da parede\n",
    "#HP = input(\"Qual a altura da parede? \")   # HP = altura da parede\n",
    "\n",
    "LP = float(LP)\n",
    "#HP = float(HP)\n",
    "\n",
    "LA = input(\"Qual a largura do azulejo? \") # LA = largura do azulejo\n",
    "#HA = input(\"Qual a altura do azulejo? \")  # HA = altura do azulejo\n",
    "\n",
    "LA = float(LA)\n",
    "#HA = float(HA)\n",
    "\n",
    "AP = (LP * LP) # AP = área da parede\n",
    "\n",
    "\n",
    "AA = (LA * LA) # AA = área do azulejo\n",
    "\n",
    "QA = (AP / AA) # QA = quantidade de azulejos\n",
    "\n",
    "print(\"A área da parede é:\", AP, \"a área do azulejo é:\", AA, \".\")\n",
    "print(f\"A quantidade de azulejos necessários para completar a parede é:, {QA: .2f}\")"
   ]
  },
  {
   "cell_type": "code",
   "execution_count": 19,
   "metadata": {},
   "outputs": [
    {
     "name": "stdout",
     "output_type": "stream",
     "text": [
      "A área da parede é: 9.28 a área do azulejo é: 0.7 .\n",
      "A quantidade de azulejos necessários para completar a parede é:,  13.26\n"
     ]
    }
   ],
   "source": [
    "# Desenhe um fluxograma e implemente um programa em python que recebe a largura e altura de uma parede retângualr e a largura e altura\n",
    "# de um azulejo retângular, calcula e mostra quantos azulejos serão necessários para preencher completamente a parede.\n",
    "\n",
    "\n",
    "\n",
    "LP = input(\"Qual é a largura da parede? \") # LP = largura da parede\n",
    "HP = input(\"Qual a altura da parede? \")   # HP = altura da parede\n",
    "\n",
    "HP = float(HP)\n",
    "LP = float(LP)\n",
    "\n",
    "LA = input(\"Qual a largura do azulejo? \") # LA = largura do azulejo\n",
    "HA = input(\"Qual a altura do azulejo? \")  # HA = altura do azulejo\n",
    "\n",
    "LA = float(LA)\n",
    "HA = float(HA)\n",
    "\n",
    "AP = (LP * HP) # AP = área da parede\n",
    "\n",
    "\n",
    "AA = (LA * HA) # AA = área do azulejo\n",
    "\n",
    "QA = (AP / AA) # QA = quantidade de azulejos\n",
    "\n",
    "print(\"A área da parede é:\", AP, \"a área do azulejo é:\", AA, \".\")\n",
    "print(f\"A quantidade de azulejos necessários para completar a parede é:, {QA: .2f}\")\n",
    "\n"
   ]
  },
  {
   "cell_type": "code",
   "execution_count": 7,
   "metadata": {},
   "outputs": [
    {
     "name": "stdout",
     "output_type": "stream",
     "text": [
      "Um cilindro com o raio da base igual:  2.0 e de altura: , 6.0  tem um volume de: ,  75.40\n"
     ]
    }
   ],
   "source": [
    "# Desenhe um fluxograma e implemente o programa em python que recebe seu raio da base e a altura de um cilindro, calcula e mostra seu volume\n",
    "\n",
    "# R = raio | V = volume | H = altura\n",
    "\n",
    "import math\n",
    "pi = math.pi\n",
    "\n",
    "R = input(\"Informe o raio da base do cilindro: \") \n",
    "R=float(R)\n",
    "H = input(\"Informe a altura do cilindro: \") \n",
    "H=float(H)\n",
    "\n",
    "V = ( pi * R**2 * H )\n",
    "print(\"Um cilindro com o raio da base igual: \", R, \"e de altura: ,\", H,f\" tem um volume de: , {V: .2f}\")\n"
   ]
  },
  {
   "cell_type": "code",
   "execution_count": 8,
   "metadata": {},
   "outputs": [
    {
     "name": "stdout",
     "output_type": "stream",
     "text": [
      "O volume da esfera é:  113.10\n"
     ]
    }
   ],
   "source": [
    "# Desenhe um fluxograma e implemente o programa em python que recebe o raio de uma esfera, calcula e mostra seu volume\n",
    "\n",
    "# R = raio da esfera | V = volume da esfera\n",
    "\n",
    "import math\n",
    "pi = math.pi\n",
    "\n",
    "R = input(\"Informe o raio da esfera: \")\n",
    "R =float(R)\n",
    "\n",
    "V = (4/3 * pi * R**3)\n",
    "\n",
    "print(f\"O volume da esfera é: {V: .2f}\")"
   ]
  },
  {
   "cell_type": "code",
   "execution_count": 12,
   "metadata": {},
   "outputs": [
    {
     "name": "stdout",
     "output_type": "stream",
     "text": [
      "Os 3 números informados foram:  3.0 5.0 3.0 e a média aritimética entre eles é:  3.67\n"
     ]
    }
   ],
   "source": [
    "# Desenhe um fluxograma e implemente o programa em Python que leia três números reais, calcula a média aritimética e mostre o resultado.\n",
    "#Média aritmética = (N1 + N2 + N3)/3\n",
    "\n",
    "# MA = média aritmetica | R = resultado\n",
    "\n",
    "N1 = input(\"Digite o primeiro número real para fazer o cálculo: \")\n",
    "N2 = input(\"Digite o segundo número real para fazer o cálculo: \")\n",
    "N3 = input(\"Digite o terceiro número real para fazer o cálculo: \")\n",
    "\n",
    "N1=float(N1)\n",
    "N2=float(N2)\n",
    "N3=float(N3)\n",
    "\n",
    "MA = ( N1 + N2 + N3) / 3\n",
    "print(\"Os 3 números informados foram: \", N1,  N2, N3, f\"e a média aritimética entre eles é: {MA: .2f}\")\n",
    "\n"
   ]
  },
  {
   "cell_type": "code",
   "execution_count": 2,
   "metadata": {},
   "outputs": [
    {
     "name": "stdout",
     "output_type": "stream",
     "text": [
      "MEDIA = 5.0\n"
     ]
    }
   ],
   "source": [
    "# Desenhe um fluxograma e implemente o programa em python que leia 3 números reais, calcule a média ponderada e mostre o resultado.\n",
    "# média aritmética = (n1 * 2 + n2 * 3 + n3 * 5)/10\n",
    "\n",
    "A = float(input())\n",
    "B = float(input())\n",
    "C = float(input())\n",
    "\n",
    "\n",
    "\n",
    "MEDIA = (A*2 + B*3 + C*5) / 10\n",
    "\n",
    "\n",
    "print(f\"MEDIA = {MEDIA:.1f}\")"
   ]
  },
  {
   "cell_type": "code",
   "execution_count": 14,
   "metadata": {},
   "outputs": [
    {
     "name": "stdout",
     "output_type": "stream",
     "text": [
      "-45\n"
     ]
    }
   ],
   "source": [
    "#Desenhe um fluxograma e  implemente um programa em python que lê dois números inteiros ( X e Y ), calcule conforme a fórmula a seguir e mostre\n",
    "# o resultado | FÓRMULA = (-X) + [(Y-X) + (-Y). (X)] + 20\n",
    "\n",
    "\n",
    "X = int(input(\"Digite o X: \"))\n",
    "Y = int(input(\"Digite Y:  \"))\n",
    "\n",
    "RESULTADO =  (-X) + (Y - X) + (-Y) * (X) + 20\n",
    "\n",
    "print(RESULTADO)"
   ]
  },
  {
   "cell_type": "code",
   "execution_count": 6,
   "metadata": {},
   "outputs": [
    {
     "name": "stdout",
     "output_type": "stream",
     "text": [
      "RESTO = 1.0\n"
     ]
    }
   ],
   "source": [
    "# Desenhe um fluxograma e implemente o programa em Python que leia dois números inteiros ( X e Y ), calcule o resto da divisão do primeiro pelo \n",
    "#segundo número e mostre o resultado.\n",
    "\n",
    "n1 = int(input(\"Digite o primeiro número da divisão.\"))\n",
    "n2 = int(input(\"Digite o segundo número da divisão.\"))\n",
    "\n",
    "\n",
    "RESTO = (n1 % n2)\n",
    "\n",
    "print(f\"RESTO = {RESTO:.1f}\")"
   ]
  },
  {
   "cell_type": "code",
   "execution_count": 2,
   "metadata": {},
   "outputs": [
    {
     "name": "stdout",
     "output_type": "stream",
     "text": [
      "O percentual de vendas do objeto foi:  10.00%\n"
     ]
    }
   ],
   "source": [
    "# Desenhe um fluxograma e implemente o programa em python que leia o total de um objeto em estoque, o total vendido de objetos do mesmo tipo,\n",
    "# cacule e mostre o percentual de objetos vendidos .\n",
    "\n",
    "#Total de um Objeto em Estoque (TE) ------------- 100%\n",
    "#Total Vendido de Objetos (TV) -------------- X%\n",
    "\n",
    "# X = TV * 100 / TE\n",
    "\n",
    "\n",
    "TE = int(input(\"Qual a quantidade do objeto em estoque? \"))\n",
    "TV = int(input(\"Quantos itens desse objeto foram vendidos?\"))\n",
    "\n",
    "X = TV * 100 / TE\n",
    "X = float(X)\n",
    "\n",
    "print(f\"O percentual de vendas do objeto foi: {X: .2f}%\")"
   ]
  }
 ],
 "metadata": {
  "kernelspec": {
   "display_name": "base",
   "language": "python",
   "name": "python3"
  },
  "language_info": {
   "codemirror_mode": {
    "name": "ipython",
    "version": 3
   },
   "file_extension": ".py",
   "mimetype": "text/x-python",
   "name": "python",
   "nbconvert_exporter": "python",
   "pygments_lexer": "ipython3",
   "version": "3.12.4"
  }
 },
 "nbformat": 4,
 "nbformat_minor": 2
}
